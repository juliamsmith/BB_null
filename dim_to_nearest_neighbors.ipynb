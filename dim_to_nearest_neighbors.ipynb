{
 "cells": [
  {
   "cell_type": "code",
   "execution_count": null,
   "metadata": {},
   "outputs": [],
   "source": [
    "import math\n",
    "from sortedcontainers import SortedDict\n",
    "import random\n",
    "import numpy \n",
    "import matplotlib.pyplot as plt\n",
    "%matplotlib inline\n",
    "from scipy.stats import truncnorm\n",
    "from scipy.stats import norm\n",
    "from heapq import nsmallest\n"
   ]
  },
  {
   "cell_type": "code",
   "execution_count": null,
   "metadata": {},
   "outputs": [],
   "source": [
    "def generate_positions(males, x_dim, y_dim):\n",
    "    Xs = numpy.random.rand(males) * x_dim\n",
    "    Ys = numpy.random.rand(males) * y_dim\n",
    "    return [Xs,Ys]\n",
    "def compute_distances_travel_times(males, positions, bird_speed):\n",
    "    male_dist = numpy.zeros((males, males))\n",
    "    travel_times = numpy.zeros((males, males))\n",
    "    for i in range(males):\n",
    "        for j in range(i + 1, males):\n",
    "            dist = math.sqrt((positions[0][j] - positions[0][i]) ** 2 + (positions[1][j] - positions[1][i]) ** 2)\n",
    "            travel = dist / bird_speed\n",
    "            male_dist[j][i] = dist\n",
    "            male_dist[i][j] = dist\n",
    "            travel_times[j][i] = travel\n",
    "            travel_times[i][j] = travel\n",
    "    return (male_dist, travel_times)\n",
    "\n",
    "males=100\n",
    "bird_speed=12\n",
    "dim_vec=[450, 900, 2250, 4500, 9000]\n",
    "numsims=10\n",
    "numneigh=99\n",
    "av=numpy.zeros((numneigh, numsims))\n",
    "simav=numpy.zeros((numneigh, len(dim_vec)))\n",
    "for j in range(len(dim_vec)):\n",
    "    x_dim=dim_vec[j]\n",
    "    y_dim=dim_vec[j]\n",
    "    for i in range(numsims):\n",
    "        positions = generate_positions(males, x_dim, y_dim)\n",
    "        distances, travel_times = compute_distances_travel_times(males, positions, bird_speed)\n",
    "        nndist=[]\n",
    "        for z in range(males):\n",
    "            dists=distances[z,:]\n",
    "            nndist.append(nsmallest(numneigh, dists[numpy.nonzero(dists)]))\n",
    "        #print(nndist)\n",
    "        av[:,i]=numpy.mean(nndist, axis=0)\n",
    "    #print(av)\n",
    "    simav[:,j]=numpy.mean(av, axis=1)\n",
    "print(simav) #simav is going across a row is increasing dim and going down a col is increasing nth nearest neighbor\n"
   ]
  },
  {
   "cell_type": "code",
   "execution_count": null,
   "metadata": {},
   "outputs": [],
   "source": [
    "numpy.mean(simav, axis=0) #average distance between birds (NOT nearest neighbors) for the different dims"
   ]
  },
  {
   "cell_type": "code",
   "execution_count": null,
   "metadata": {},
   "outputs": [],
   "source": [
    "# a lot of birds near the average distance between birds -- fewer at the extremes (close and far)\n",
    "#note: this could also be represented with a bell curve\n",
    "plt.figure()\n",
    "plt.plot(range(99), simav[:,0])\n",
    "plt.figure()\n",
    "plt.plot(range(99), simav[:,1]) \n",
    "plt.figure()\n",
    "plt.plot(range(99), simav[:,2])\n",
    "plt.figure()\n",
    "plt.plot(range(99), simav[:,3])\n",
    "plt.figure()\n",
    "plt.plot(range(99), simav[:,4])"
   ]
  }
 ],
 "metadata": {
  "kernelspec": {
   "display_name": "Python 3",
   "language": "python",
   "name": "python3"
  },
  "language_info": {
   "codemirror_mode": {
    "name": "ipython",
    "version": 3
   },
   "file_extension": ".py",
   "mimetype": "text/x-python",
   "name": "python",
   "nbconvert_exporter": "python",
   "pygments_lexer": "ipython3",
   "version": "3.6.5"
  }
 },
 "nbformat": 4,
 "nbformat_minor": 2
}
